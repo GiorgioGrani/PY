{
 "cells": [
  {
   "cell_type": "code",
   "execution_count": 1,
   "metadata": {},
   "outputs": [],
   "source": [
    "import matplotlib.pyplot as plt\n",
    "%matplotlib inline\n",
    "\n",
    "\n",
    "import matplotlib.ticker as plticker\n",
    "import pandas as pd\n",
    "import numpy as np\n",
    "import matplotlib2tikz as mpt\n",
    "import math"
   ]
  },
  {
   "cell_type": "markdown",
   "metadata": {},
   "source": [
    "# build: a function creating the performance profile\n",
    "\n",
    "### Input\n",
    "\n",
    "* `input_file`, the path to the file you want to open\n",
    "* `indexcol`, default 0, it defines the column to consider as index\n",
    "* `header_`, default 1, it defines the row to consider as header (questo per come sono fatti i miei dati tu mettilo a 0 R)\n",
    "* `cols`, the columns to include in the graphs\n",
    "* `colnames`, their name if you want to change them\n",
    "* `sheetname`, the sheet to consider\n",
    "* `title`, the title you want to give to the graph\n",
    "* `filtering`, default 1, it is the minimum number of non dominated points for an instance to be included in the graph (impostalo a 0 R)\n",
    "* `factor`, default 1, defines the breakpoint for dividing multiple graph\n",
    "\n",
    "### Output\n",
    "\n",
    "A performance profile graph."
   ]
  },
  {
   "cell_type": "code",
   "execution_count": 2,
   "metadata": {},
   "outputs": [],
   "source": [
    "def build(input_file, indexcol = 0, header_ = 1, cols = None, colnames = None,\n",
    "          sheetname = None, title = None, filtering = 1, factor = 1, split = 1, boundary = math.inf ):\n",
    "    \n",
    "    df = pd.read_excel(input_file, sheet_name = sheetname, index_col = indexcol, header = header_, usecols = cols)\n",
    "    #print(df.head())\n",
    "    \n",
    "    dM = df.to_numpy()\n",
    "    \n",
    "    \n",
    "    #FILTERING INSTANCES WITH LESS THEN 1 SEC OF COMPUTATION\n",
    "    dM = dM[dM[:,2]>=filtering]\n",
    "    ran=np.array([0])\n",
    "    \n",
    "    ran2 = 2+np.arange(len(dM[0,:])-2)\n",
    "    ran =np.append(ran, ran2)\n",
    "    #print(ran)\n",
    "    #print(len(dM),\"  \", len(dM[0,:]) , \"   \" , len(dM[:,0]))\n",
    "    dM = dM[:,ran]\n",
    "    #print(dM)\n",
    "    #########################################################\n",
    "    \n",
    "    \n",
    "    for i in range(len(dM)):\n",
    "        for j in range(len(dM[0,:])):\n",
    "            if dM[i,j] >= boundary:\n",
    "                dM[i,j] = boundary\n",
    "                \n",
    "    \n",
    "    if colnames == None :\n",
    "        colnames = cols\n",
    "    \n",
    "    dm = dM\n",
    "    #print(dm)\n",
    "    dmin = np.amin( dm, axis = 1)\n",
    "    print(dmin)\n",
    "    \n",
    "    \n",
    "    for i in range(len(dm)) :\n",
    "        dm[i,:] = np.array( [dm[i, j]/dmin[i] for j in range(len(dm[0,:]))])\n",
    "        \n",
    "        \n",
    "    vec = np.sort( dm, axis = None)\n",
    "    vec = np.append( vec, vec[len(vec)-1] + 1e-4)\n",
    "    print(vec[0],\"   \", vec[len(vec)-1],\"  \", len(vec))\n",
    "    n = len(dm[0,:])\n",
    "    pp = np.zeros( (len(vec), n+1))\n",
    "    pp[:,0] = vec\n",
    "    for i in range(len(vec)):\n",
    "        pp[i, 1:(n+1)] = np.array( [ len(dm[dm[:,j] < vec[i],  j])/len(dm[:,j]) for j in range(n)])\n",
    "        \n",
    "    print(pp)\n",
    "   \n",
    "        \n",
    "    fig_1 = plt.figure(1, figsize = (10, 4.8))\n",
    "    inp = 111\n",
    "    if factor > 1:\n",
    "        inp = 121\n",
    "    chart  = fig_1.add_subplot(inp)\n",
    "    #chart.set_xscale('symlog',linthreshx=7)\n",
    "    #loc = plticker.MultipleLocator(base=1.0) # this locator puts ticks at regular intervals\n",
    "    #chart.xaxis.set_major_locator(loc)\n",
    "    #start, end = chart.get_xlim()\n",
    "    #stepsize = 1#1e-3#/5\n",
    "    #chart.axes.set_xticks(np.arange(1, max(vec)+1, stepsize))\n",
    "    #chart.axes.set_xticklabels(np.arange(1, max(vec)+1, stepsize))\n",
    "    \n",
    "    chart2 = None\n",
    "    if factor > 1:\n",
    "        chart2 = fig_1.add_subplot(inp + 1)\n",
    "        chart2.set_xscale('log')\n",
    "        #plt.ylim(chart.get_ylim())\n",
    "    lv = np.max(vec)/factor\n",
    "    for j in range(n) :\n",
    "        chart.step( pp[pp[:,0]<lv,0], pp[pp[:,0]<lv, j+1], label = colnames[j+1] )\n",
    "        if factor > 1:\n",
    "            chart2.step( pp[pp[:,0]>=lv,0], pp[pp[:,0]>=lv, j+1], label = colnames[j+1] )\n",
    "        \n",
    "        \n",
    "    #chart.legend()\n",
    "    if factor > 1 :\n",
    "        chart2.legend() \n",
    "    else: \n",
    "        chart.legend()\n",
    "    if title != None: \n",
    "        fig_1.suptitle(title)\n",
    "    name = sheetname + '.tex'\n",
    "    mpt.save(name)\n",
    "    plt.show()"
   ]
  },
  {
   "cell_type": "code",
   "execution_count": 3,
   "metadata": {},
   "outputs": [],
   "source": [
    "cols = { \n",
    "       'istanzevecchie' : [ 'Nome istanza',         'BBM time','points', \n",
    "                            'FPA_time','FPA_time.1','FPA_time.2',\n",
    "                            #'FPA_time.3',           'FPA_time.4', \n",
    "                            #'FPA_time.5',           \n",
    "                           'ALA_time',\n",
    "                            'MALA_time'],\n",
    "    \n",
    "        'istanzenuove' :  [ 'Nome istanza',         'BBM time','points' ,\n",
    "                            'FPA_time',             'FPA_time.1',\n",
    "                            'FPA_time.2',           #'FPA_time.3',\n",
    "                            #'FPA_time.4',           \n",
    "                           'FPA_time.5',\n",
    "                            'FPA_time.6'],\n",
    "    \n",
    "        'istanzevecchiequadratiche' :\n",
    "                          [ 'Nome istanza',          'points',\n",
    "                           'FPA_time',              'FPA_time.1',\n",
    "                           'FPA_time.2',             'FPA_time.6']\n",
    "        }\n",
    "       \n",
    "colnames = { \n",
    "        'istanzevecchie' : [ 'Nome istanza',        'BBM', \n",
    "                             'FPA-W(0.5,0.5)',          'FPA-W(0.1,0.9)',\n",
    "                             'FPA-W(0.25,0.75)',        #'w(0.9,0.1)',\n",
    "                             #'w(0.75,0.25)',        'w(Random)', \n",
    "                             'FPA*',                'FPA2'],\n",
    "    \n",
    "        'istanzenuove'   : [ 'Nome istanza',        'BBM', \n",
    "                             'FPA-W(0.5,0.5)',          'FPA-W(0.1,0.9)',\n",
    "                             'FPA-W(0.25,0.75)',        #'w(0.9,0.1)',\n",
    "                             #'w(0.75,0.25)',  \n",
    "                            'FPA*',\n",
    "                             'FPA2'],\n",
    "        'istanzevecchiequadratiche' :\n",
    "                           [ 'Nome istanza',        'FPA-W(0.5,0.5)',\n",
    "                             'FPA-W(0.1,0.9)',          'FPA-W(0.25,0.75)',\n",
    "                             'FPA2']\n",
    "           }\n",
    "\n",
    "filtering = 1\n",
    "sheetnames_titles = [('First group linear instances, filtering >1 non dominated points','istanzevecchie',0),\n",
    "                     ('Second group linear instances, filtering >1 non dominated points','istanzenuove',1),\n",
    "                     ('First group quadratic instances, filtering >1 non dominated points','istanzevecchiequadratiche',3)]\n",
    "factor = {'istanzevecchie': 1, 'istanzenuove':1, 'istanzevecchiequadratiche':12}\n",
    "input_file = 'Stats.xlsx'"
   ]
  },
  {
   "cell_type": "code",
   "execution_count": 4,
   "metadata": {},
   "outputs": [
    {
     "name": "stdout",
     "output_type": "stream",
     "text": [
      "[8.64680e+01 1.69138e+02 2.24900e+00 2.59605e+02 2.81433e+02 4.67250e+01\n",
      " 2.26940e+01 4.39960e+01 3.08730e+01 3.25387e+02 6.65000e-01 1.10600e+00\n",
      " 1.15100e+00 1.92400e+00 6.48000e-01 8.24000e-01 9.22000e-01 1.88300e+00\n",
      " 1.98700e+00 8.75000e-01 1.17500e+00 2.84800e+00 1.45400e+00 3.94000e+00\n",
      " 6.87700e+00 1.16000e+00 1.01150e+01 7.25000e-01 6.27300e+00 9.91000e-01\n",
      " 7.01000e-01 6.11800e+00 3.41200e+00 2.40500e+00 3.63600e+00 3.73700e+00\n",
      " 1.23580e+01 1.08900e+00 3.11000e+00 5.74500e+00 2.96010e+01 2.37300e+00\n",
      " 3.00940e+01 1.12930e+01 5.71600e+00 1.41700e+01 5.28230e+01 5.34650e+01\n",
      " 2.22430e+01 1.04300e+00 2.09200e+00 1.25063e+02 2.31500e+00 8.44700e+00\n",
      " 9.07500e+00 1.12310e+01 9.45600e+00 1.52030e+02 5.51740e+01 1.75790e+01\n",
      " 3.39400e+00 2.04600e+00 2.88100e+00 3.29200e+01 8.11910e+02 4.42600e+00\n",
      " 4.11560e+01 2.61900e+00 1.55990e+01 1.46157e+02 5.43084e+02 7.61000e-01\n",
      " 2.70000e+00 2.86100e+00 9.83000e-01 3.96700e+00 1.19100e+00 7.23000e-01\n",
      " 5.64000e-01 5.63000e-01 1.07600e+00 1.20200e+00 1.07200e+00 8.62000e-01\n",
      " 4.95470e+01 2.93500e+00 8.36000e-01 8.32000e-01 6.36000e-01 6.79000e-01\n",
      " 5.71040e+01 6.57500e+00 3.23500e+00 1.26200e+00 2.19800e+00 1.52820e+01\n",
      " 2.63100e+01 8.34000e+00 2.27200e+00 3.05700e+00 7.43000e-01 6.99190e+01\n",
      " 1.26390e+01 5.59200e+00 5.66200e+00 1.68600e+00 4.82700e+00 2.52700e+00\n",
      " 1.71600e+00 7.84400e+00 3.17350e+01 3.32400e+00 2.60700e+00 4.38400e+00\n",
      " 3.37200e+00 8.11280e+01 1.47918e+02 1.96480e+01 7.97800e+00 7.10740e+01\n",
      " 5.75000e-01 7.40000e-01 3.52100e+00 3.10600e+00 1.09500e+00 8.55000e-01\n",
      " 5.51000e-01 5.26000e-01 1.62500e+00 1.35100e+00 3.40200e+00 2.75100e+00]\n",
      "1.0     8.247035769004125    793\n",
      "[[1.         0.         0.         ... 0.         0.         0.        ]\n",
      " [1.         0.         0.         ... 0.         0.         0.        ]\n",
      " [1.         0.         0.         ... 0.         0.         0.        ]\n",
      " ...\n",
      " [8.23512774 0.98484848 1.         ... 1.         1.         1.        ]\n",
      " [8.24693577 0.99242424 1.         ... 1.         1.         1.        ]\n",
      " [8.24703577 1.         1.         ... 1.         1.         1.        ]]\n"
     ]
    },
    {
     "data": {
      "image/png": "[encoded data removed]",
      "text/plain": [
       "<Figure size 720x345.6 with 1 Axes>"
      ]
     },
     "metadata": {
      "needs_background": "light"
     },
     "output_type": "display_data"
    },
    {
     "name": "stderr",
     "output_type": "stream",
     "text": [
      "/home/giorgio/anaconda3/lib/python3.6/site-packages/ipykernel_launcher.py:11: RuntimeWarning: invalid value encountered in greater_equal\n",
      "  # This is added back by InteractiveShellApp.init_path()\n"
     ]
    },
    {
     "name": "stdout",
     "output_type": "stream",
     "text": [
      "[1.442800e+01 6.222800e+01 6.570370e+02 9.148800e+01 3.191900e+01\n",
      " 1.605970e+02 9.326450e+02 6.676930e+02 1.490570e+02 4.092900e+01\n",
      " 3.934410e+02 9.733000e+00 1.449600e+01 9.832000e+01 2.065890e+02\n",
      " 1.210160e+02 1.090200e+01 2.538000e+02 3.001130e+02 2.190300e+01\n",
      " 1.086900e+01 6.301590e+02 1.236700e+02 2.623560e+02 5.839400e+01\n",
      " 1.519300e+01 1.043100e+01 1.054700e+01 3.158300e+01 5.982990e+02\n",
      " 1.138400e+01 8.302000e+00 5.840000e+01 5.026000e+00 2.236000e+00\n",
      " 6.575000e+00 3.094600e+01 2.836000e+01 1.105000e+00 2.325500e+02\n",
      " 2.565900e+01 6.946000e+00 6.783700e+01 1.903800e+02 2.524340e+02\n",
      " 1.370800e+02 3.669000e+00 6.398400e+01 5.689000e+00 5.153000e+00\n",
      " 1.216057e+03 6.805060e+02 7.300400e+01 2.070000e+01 3.860300e+01\n",
      " 9.710000e-01 8.121000e+00 2.024300e+01 4.233600e+01 8.120000e+00\n",
      " 1.145460e+02 4.345600e+01 1.229160e+02 1.148160e+02 2.018600e+01\n",
      " 1.408610e+02 1.497070e+02 4.521400e+01 5.889940e+02 2.753000e+00\n",
      " 4.135000e+00 1.645300e+01 9.544000e+00 3.546200e+01 1.066010e+02\n",
      " 1.386000e+00 4.525600e+01 4.246200e+01 6.069500e+01 4.853600e+01\n",
      " 3.369100e+01 4.477500e+01 4.342680e+02 3.260000e+00 5.069000e+00\n",
      " 3.481000e+01 8.926000e+00 1.284200e+02 5.457000e+00 2.557100e+01\n",
      " 1.336600e+01 2.065730e+02 5.864100e+01 2.248600e+01 3.616100e+01]\n",
      "1.0     8.101985223177156    571\n",
      "[[1.         0.         0.         ... 0.         0.         0.        ]\n",
      " [1.         0.         0.         ... 0.         0.         0.        ]\n",
      " [1.         0.         0.         ... 0.         0.         0.        ]\n",
      " ...\n",
      " [8.04135907 1.         1.         ... 0.98947368 1.         0.98947368]\n",
      " [8.10188522 1.         1.         ... 1.         1.         0.98947368]\n",
      " [8.10198522 1.         1.         ... 1.         1.         1.        ]]\n"
     ]
    },
    {
     "data": {
      "image/png": "[encoded data removed]",
      "text/plain": [
       "<Figure size 720x345.6 with 1 Axes>"
      ]
     },
     "metadata": {
      "needs_background": "light"
     },
     "output_type": "display_data"
    },
    {
     "name": "stdout",
     "output_type": "stream",
     "text": [
      "[2.02400000e+00 2.68300000e+00 1.62310000e+01 6.11700000e+00\n",
      " 2.30900000e+00 1.83800000e+00 1.74500000e+00 4.89000000e-01\n",
      " 9.19000000e-01 3.36270000e+01 1.58900000e+01 2.21750000e+01\n",
      " 1.01530000e+01 1.54850000e+01 1.32410000e+01 9.27000000e-01\n",
      " 4.11900000e+01 1.99930000e+01 6.36600000e+00 3.47300000e+00\n",
      " 2.39640000e+01 9.92300000e+00 2.44471000e+02 2.54310000e+01\n",
      " 3.82640000e+01 9.04000000e+01 6.53750000e+01 3.27960000e+01\n",
      " 1.30273000e+02 1.42770000e+01 6.00580000e+01 9.81970000e+01\n",
      " 1.17498000e+02 6.62334000e+02 1.52777000e+02 7.12400000e+01\n",
      " 1.16980000e+02 6.13550000e+01 5.08770000e+01 7.98610000e+01\n",
      " 2.04040000e+01 6.84894000e+02 3.02916000e+02 2.42602000e+02\n",
      " 2.10404000e+02 1.65225000e+02 1.18041000e+02 1.83415000e+02\n",
      " 2.27065000e+02 2.13312800e+03 4.62180000e+02 4.00300000e+01\n",
      " 6.83000000e-01 1.11000000e-01 1.23800000e+00 9.11000000e-01\n",
      " 1.77000000e-01 3.50130000e+01 7.09000000e-01 1.19700000e+00\n",
      " 3.34860000e+01 9.83900000e+00 2.27910000e+01 3.68220000e+01\n",
      " 7.16500000e+01 5.80000000e+00 6.62190000e+01 1.04650000e+01\n",
      " 1.79180000e+01 1.00657000e+02 2.27590000e+01 3.75700000e+00\n",
      " 3.65100000e+00 3.51020000e+01 6.69360000e+01 9.91000000e-01\n",
      " 2.01331000e+02 1.58780000e+01 3.67390000e+01 5.31080000e+01\n",
      " 6.25000000e-01 1.99700000e+01 2.87690000e+01 4.92190000e+01\n",
      " 2.16060000e+01 4.16040000e+01 3.70840000e+01 6.72226000e+02\n",
      " 6.59060000e+01 3.46761000e+02 1.85947000e+02 6.23670000e+01\n",
      " 5.41870000e+01 2.70220000e+01 2.57570000e+01 1.35550000e+01\n",
      " 1.38902600e+03 1.70563500e+03 5.56266000e+02 4.50810000e+01\n",
      " 7.08739000e+02 9.92339000e+02 5.58305000e+02 4.23134000e+02\n",
      " 9.82502194e+02 1.70809000e+02 2.46800000e+00 4.71200000e+00\n",
      " 2.58500000e+00 1.79510000e+01 4.70380000e+01 1.02600000e+00\n",
      " 5.91500000e+00 1.73110000e+01 2.51800000e+00 1.00600000e+00\n",
      " 2.22900000e+00 2.96430000e+01 1.17930000e+01 2.01980000e+01\n",
      " 5.99500000e+00 4.72920000e+01 8.93500000e+00 8.36260000e+01\n",
      " 1.37942000e+02 1.14100000e+01 8.45610000e+01 4.14070000e+01\n",
      " 9.81600000e+00 3.27910000e+01 5.55070000e+01 8.71900000e+00\n",
      " 1.05129000e+02 2.45130000e+01 1.88207000e+02 8.10600000e+00\n",
      " 7.56740000e+01]\n",
      "1.0     57.982081981981985    549\n",
      "[[ 1.          0.          0.          0.          0.        ]\n",
      " [ 1.          0.          0.          0.          0.        ]\n",
      " [ 1.          0.          0.          0.          0.        ]\n",
      " ...\n",
      " [50.01801802  0.99270073  0.99270073  1.          1.        ]\n",
      " [57.98198198  0.99270073  1.          1.          1.        ]\n",
      " [57.98208198  1.          1.          1.          1.        ]]\n"
     ]
    },
    {
     "data": {
      "image/png": "[encoded data removed]",
      "text/plain": [
       "<Figure size 720x345.6 with 2 Axes>"
      ]
     },
     "metadata": {
      "needs_background": "light"
     },
     "output_type": "display_data"
    }
   ],
   "source": [
    "for sheet in sheetnames_titles:\n",
    "    build( input_file = input_file, cols = cols[sheet[1]], \n",
    "           colnames = colnames[sheet[1]], sheetname = sheet[1], \n",
    "           title = sheet[0], factor = factor[sheet[1]], boundary = 3600 )"
   ]
  },
  {
   "cell_type": "code",
   "execution_count": 5,
   "metadata": {},
   "outputs": [],
   "source": [
    "cols = { \n",
    "       'istanzevecchie' : [ 'Nome istanza',         'problems','points', \n",
    "                            'FPA_total_nodes',      \n",
    "                           'ALAp',\n",
    "                            'MALAp'],\n",
    "    \n",
    "        'istanzenuove' :  [ 'Nome istanza',         'problems','points' ,\n",
    "                            'FPA_total_nodes',                                \n",
    "                            'ALAp',\n",
    "                            'MALAp'],\n",
    "    \n",
    "        'istanzevecchiequadratiche' :\n",
    "                          [ 'Nome istanza',          'points', 'FPA_total_nodes',  \n",
    "                           'MALAp']\n",
    "        }\n",
    "       \n",
    "colnames = { \n",
    "        'istanzevecchie' : [ 'Nome istanza',        'BBM', \n",
    "                            'FPA-W',\n",
    "                             'FPA*',                'FPA2'],\n",
    "    \n",
    "        'istanzenuove'   : [  'Nome istanza',        'BBM', \n",
    "                            'FPA-W',\n",
    "                             'FPA*',                'FPA2'],\n",
    "        'istanzevecchiequadratiche' :\n",
    "                           [  'Nome istanza',         \n",
    "                            'FPA-W',                'FPA2']\n",
    "           }\n",
    "\n",
    "filtering = 1\n",
    "sheetnames_titles = [('First group linear instances, filtering >1 non dominated points','istanzevecchie',0),\n",
    "                     ('Second group linear instances, filtering >1 non dominated points','istanzenuove',1),\n",
    "                     ('First group quadratic instances, filtering >1 non dominated points','istanzevecchiequadratiche',3)]\n",
    "factor = {'istanzevecchie': 1, 'istanzenuove':1, 'istanzevecchiequadratiche':1}\n",
    "input_file = 'Stats.xlsx'"
   ]
  },
  {
   "cell_type": "code",
   "execution_count": 6,
   "metadata": {},
   "outputs": [],
   "source": [
    "def buildP(input_file, indexcol = 0, header_ = 1, cols = None, colnames = None,\n",
    "          sheetname = None, title = None, filtering = 1, factor = 1, split = 1, boundary = math.inf ):\n",
    "    \n",
    "    df = pd.read_excel(input_file, sheet_name = sheetname, index_col = indexcol, header = header_, usecols = cols)\n",
    "    #print(df.head())\n",
    "    dM = df.to_numpy()\n",
    "    \n",
    "    #FILTERING INSTANCES WITH LESS THEN 1 SEC OF COMPUTATION\n",
    "    dM = dM[dM[:,0]>=filtering]\n",
    "    ran = 1+np.arange(len(dM[0,:])-1)\n",
    "    dM = dM[:,ran]\n",
    "    #########################################################\n",
    "    \n",
    "    for i in range(len(dM)):\n",
    "        for j in range(len(dM[0,:])):\n",
    "            if dM[i,j] >= boundary:\n",
    "                dM[i,j] = boundary          \n",
    "    \n",
    "    if colnames == None :\n",
    "        colnames = cols\n",
    "    \n",
    "    dm = dM\n",
    "    dm = dm[dm[:,0].argsort(),:]\n",
    "    \n",
    "    n = len(dm[0,:])\n",
    "    pp = dm\n",
    "    \n",
    "    fig_1 = plt.figure(1, figsize = (10, 4.8))\n",
    "    inp = 111\n",
    "    chart  = fig_1.add_subplot(inp)\n",
    "    bp = chart.boxplot(pp, labels = colnames[1:len(colnames)], patch_artist = True)\n",
    "    \n",
    "    colors = ['pink', 'lightblue', 'lightgreen','yellow','blue','green']\n",
    "    for patch, color in zip(bp['boxes'], colors):\n",
    "        patch.set_facecolor(color)\n",
    "    \n",
    "    #chart.legend()\n",
    "    fig_1.suptitle(title)\n",
    "    name = sheetname +\"NumProblems\"+ '.tex'\n",
    "    mpt.save(name)\n",
    "    plt.show()"
   ]
  },
  {
   "cell_type": "code",
   "execution_count": 7,
   "metadata": {
    "scrolled": true
   },
   "outputs": [
    {
     "data": {
      "image/png": "[encoded data removed]",
      "text/plain": [
       "<Figure size 720x345.6 with 1 Axes>"
      ]
     },
     "metadata": {
      "needs_background": "light"
     },
     "output_type": "display_data"
    },
    {
     "name": "stderr",
     "output_type": "stream",
     "text": [
      "/home/giorgio/anaconda3/lib/python3.6/site-packages/ipykernel_launcher.py:9: RuntimeWarning: invalid value encountered in greater_equal\n",
      "  if __name__ == '__main__':\n"
     ]
    },
    {
     "data": {
      "image/png": "[encoded data removed]",
      "text/plain": [
       "<Figure size 720x345.6 with 1 Axes>"
      ]
     },
     "metadata": {
      "needs_background": "light"
     },
     "output_type": "display_data"
    },
    {
     "data": {
      "image/png": "[encoded data removed]",
      "text/plain": [
       "<Figure size 720x345.6 with 1 Axes>"
      ]
     },
     "metadata": {
      "needs_background": "light"
     },
     "output_type": "display_data"
    }
   ],
   "source": [
    "for sheet in sheetnames_titles:\n",
    "    buildP( input_file = input_file, cols = cols[sheet[1]], \n",
    "           colnames = colnames[sheet[1]], sheetname = sheet[1], \n",
    "           title = sheet[0], factor = factor[sheet[1]] )"
   ]
  },
  {
   "cell_type": "code",
   "execution_count": 13,
   "metadata": {},
   "outputs": [],
   "source": [
    "cols = { \n",
    "       'istanzevecchie' : [ 'Nome istanza',         'BBM time','points', \n",
    "                            'FPA_time','FPA_time.1','FPA_time.2',\n",
    "                            #'FPA_time.3',           'FPA_time.4', \n",
    "                            #'FPA_time.5',           \n",
    "                           'ALA_time',\n",
    "                            'MALA_time'],\n",
    "    \n",
    "        'istanzenuove' :  [ 'Nome istanza',         'BBM time','points' ,\n",
    "                            'FPA_time',             'FPA_time.1',\n",
    "                            'FPA_time.2',           #'FPA_time.3',\n",
    "                            #'FPA_time.4',           \n",
    "                           'FPA_time.5',\n",
    "                            'FPA_time.6'],\n",
    "    \n",
    "        'istanzevecchiequadratiche' :\n",
    "                          [ 'Nome istanza',          'points',\n",
    "                           'FPA_time',              'FPA_time.1',\n",
    "                           'FPA_time.2',             'FPA_time.6']\n",
    "        }\n",
    "       \n",
    "colnames = { \n",
    "        'istanzevecchie' : [ 'Nome istanza',        'BBM', 'pippo',\n",
    "                             'FPA-W(0.5,0.5)',          'FPA-W(0.1,0.9)',\n",
    "                             'FPA-W(0.25,0.75)',        #'w(0.9,0.1)',\n",
    "                             #'w(0.75,0.25)',        'w(Random)', \n",
    "                             'FPA*',                'FPA2'],\n",
    "    \n",
    "        'istanzenuove'   : [ 'Nome istanza',        'BBM', 'pippo',\n",
    "                             'FPA-W(0.5,0.5)',          'FPA-W(0.1,0.9)',\n",
    "                             'FPA-W(0.25,0.75)',        #'w(0.9,0.1)',\n",
    "                             #'w(0.75,0.25)',  \n",
    "                            'FPA*',\n",
    "                             'FPA2'],\n",
    "        'istanzevecchiequadratiche' :\n",
    "                           [ 'Nome istanza',        'FPA-W(0.5,0.5)', 'pippo',\n",
    "                             'FPA-W(0.1,0.9)',          'FPA-W(0.25,0.75)',\n",
    "                             'FPA2']\n",
    "           }\n",
    "\n",
    "scopes = { \n",
    "        'istanzevecchie' : [ (-1, 10), (10,20), (20,30), (30,40), (40,50), (50,65)],\n",
    "    \n",
    "        'istanzenuove'   :  [ (9, 70), (70,150), (150,300), (300,500), (500,1000)],\n",
    "        'istanzevecchiequadratiche' :\n",
    "                            [ (-1, 10), (10,20), (20,30), (30,40), (40,50), (50,65),(65,100)],\n",
    "           }\n",
    "\n",
    "\n",
    "\n",
    "input_file = 'Stats.xlsx'"
   ]
  },
  {
   "cell_type": "code",
   "execution_count": 9,
   "metadata": {},
   "outputs": [],
   "source": [
    "def buildTable(input_file, indexcol = 0, header_ = 1, cols = None, colnames = None,\n",
    "          sheetname = None, scopes = [] ):\n",
    "    \n",
    "    df = pd.read_excel(input_file, sheet_name = sheetname, index_col = indexcol, header = header_, usecols = cols)\n",
    "    #print(df.head())\n",
    "    \n",
    "    dM = df.to_numpy()\n",
    "    #print(dM)\n",
    "    \n",
    "    table = []\n",
    "    first_row = ['Cardinality']\n",
    "    colnamez = []\n",
    "    colz = []\n",
    "    colz.append(0)\n",
    "    colnamez.append(colnames[1])\n",
    "    for i in range(3,len(colnames)):\n",
    "        colnamez.append(colnames[i])\n",
    "        colz.append(i-1)\n",
    "    for col in colnamez:\n",
    "        first_row.append( col+\" avg\")\n",
    "        first_row.append( col+\" min\")\n",
    "        first_row.append( col+\" max\")\n",
    "    #table.append(first_row)\n",
    "    \n",
    "    d1 = dM[:,1] \n",
    "    first_column=[]\n",
    "    for scope in scopes:\n",
    "        inst = []\n",
    "        #print(scope)\n",
    "        dscope = dM[(d1>scope[0])*(d1<=scope[1])]\n",
    "        count = len(dscope)\n",
    "        first_column.append(\">\"+ str(scope[0])+\", <= \"+str(scope[1]))\n",
    "        inst.append( count )\n",
    "        \n",
    "        for col in colz:\n",
    "            avg = sum(dscope[:,col])/count\n",
    "            min_= min(dscope[:,col])\n",
    "            max_= max(dscope[:,col])\n",
    "            inst.append(avg)\n",
    "            inst.append(min_)\n",
    "            inst.append(max_)\n",
    "        table.append(inst)\n",
    "        \n",
    "    table = pd.DataFrame(table,  index = first_column, columns = first_row)\n",
    "    return table\n",
    "    "
   ]
  },
  {
   "cell_type": "code",
   "execution_count": 14,
   "metadata": {},
   "outputs": [
    {
     "name": "stderr",
     "output_type": "stream",
     "text": [
      "/home/giorgio/anaconda3/lib/python3.6/site-packages/ipykernel_launcher.py:30: RuntimeWarning: invalid value encountered in greater\n",
      "/home/giorgio/anaconda3/lib/python3.6/site-packages/ipykernel_launcher.py:30: RuntimeWarning: invalid value encountered in less_equal\n"
     ]
    },
    {
     "name": "stdout",
     "output_type": "stream",
     "text": [
      "\\begin{tabular}{lrrrrrrrrrr}\n",
      "\\toprule\n",
      "{} &  Cardinality &  FPA-W(0.1,0.9) avg &  FPA-W(0.1,0.9) min &  FPA-W(0.1,0.9) max &  FPA-W(0.25,0.75) avg &  FPA-W(0.25,0.75) min &  FPA-W(0.25,0.75) max &  FPA-W(0.5,0.5) avg &  FPA-W(0.5,0.5) min &  FPA-W(0.5,0.5) max \\\\\n",
      "\\midrule\n",
      ">-1, <= 10 &           66 &                 0.7 &                 0.0 &                11.6 &                   0.7 &                   0.0 &                   8.2 &                 0.7 &                 0.0 &                 9.2 \\\\\n",
      ">10, <= 20 &           71 &                 8.4 &                 0.2 &               105.7 &                   8.1 &                   0.2 &                 103.2 &                 8.4 &                 0.2 &               102.3 \\\\\n",
      ">20, <= 30 &           37 &                47.6 &                 0.4 &               395.9 &                  46.5 &                   0.4 &                 392.3 &                50.3 &                 0.3 &               414.8 \\\\\n",
      ">30, <= 40 &           19 &                29.0 &                 0.5 &               130.5 &                  29.3 &                   0.5 &                 132.1 &                31.1 &                 0.5 &               155.3 \\\\\n",
      ">40, <= 50 &           16 &               221.0 &                 0.6 &               894.8 &                 220.1 &                   0.6 &                 906.6 &               222.1 &                 0.7 &               872.8 \\\\\n",
      ">50, <= 65 &           10 &               600.5 &                 7.2 &             2,313.3 &                 582.6 &                   7.3 &               2,252.4 &               612.8 &                 7.0 &             2,508.3 \\\\\n",
      "\\bottomrule\n",
      "\\end{tabular}\n",
      "\n",
      "\\begin{tabular}{lrrrrrrrrrr}\n",
      "\\toprule\n",
      "{} &  Cardinality &  BBM avg &  BBM min &  BBM max &  FPA* avg &  FPA* min &  FPA* max &  FPA2 avg &  FPA2 min &  FPA2 max \\\\\n",
      "\\midrule\n",
      ">-1, <= 10 &           66 &      1.0 &      0.0 &     15.9 &       0.3 &       0.0 &       2.7 &       0.3 &       0.0 &       3.3 \\\\\n",
      ">10, <= 20 &           71 &     13.6 &      0.2 &    134.7 &       3.2 &       0.1 &      35.2 &       4.0 &       0.1 &      50.2 \\\\\n",
      ">20, <= 30 &           37 &     76.2 &      0.3 &    544.0 &      16.6 &       0.2 &     146.2 &      24.2 &       0.2 &     263.5 \\\\\n",
      ">30, <= 40 &           19 &     49.0 &      0.4 &    255.1 &       9.7 &       0.3 &      46.3 &      11.0 &       0.3 &      41.2 \\\\\n",
      ">40, <= 50 &           16 &    299.3 &      0.5 &  1,167.2 &      76.1 &       0.4 &     325.4 &     149.3 &       0.4 &     710.7 \\\\\n",
      ">50, <= 65 &           10 &    830.4 &      9.6 &  3,298.1 &     237.6 &       3.1 &     996.7 &     278.0 &       5.5 &   1,142.1 \\\\\n",
      "\\bottomrule\n",
      "\\end{tabular}\n",
      "\n",
      "\\begin{tabular}{lrrrrrrrrrr}\n",
      "\\toprule\n",
      "{} &  Cardinality &  FPA-W(0.1,0.9) avg &  FPA-W(0.1,0.9) min &  FPA-W(0.1,0.9) max &  FPA-W(0.25,0.75) avg &  FPA-W(0.25,0.75) min &  FPA-W(0.25,0.75) max &  FPA-W(0.5,0.5) avg &  FPA-W(0.5,0.5) min &  FPA-W(0.5,0.5) max \\\\\n",
      "\\midrule\n",
      ">9, <= 70     &           13 &                13.9 &                 0.9 &                80.0 &                  13.4 &                   0.9 &                  76.4 &                27.7 &                 0.8 &               253.0 \\\\\n",
      ">70, <= 150   &           16 &                54.9 &                 5.1 &               172.1 &                  51.7 &                   5.1 &                 180.8 &                57.3 &                 5.2 &               176.4 \\\\\n",
      ">150, <= 300  &           19 &               213.2 &                10.3 &             2,092.8 &                 207.2 &                  10.1 &               2,058.1 &               211.7 &                10.0 &             2,021.8 \\\\\n",
      ">300, <= 500  &           26 &               297.4 &                34.5 &               963.8 &                 285.9 &                  29.6 &                 949.5 &               329.9 &                29.9 &             1,574.3 \\\\\n",
      ">500, <= 1000 &           21 &             1,122.8 &                58.8 &             3,669.2 &               1,073.2 &                  59.0 &               3,657.9 &             1,185.8 &                55.2 &             3,607.7 \\\\\n",
      "\\bottomrule\n",
      "\\end{tabular}\n",
      "\n",
      "\\begin{tabular}{lrrrrrrrrrr}\n",
      "\\toprule\n",
      "{} &  Cardinality &  BBM avg &  BBM min &  BBM max &  FPA* avg &  FPA* min &  FPA* max &  FPA2 avg &  FPA2 min &  FPA2 max \\\\\n",
      "\\midrule\n",
      ">9, <= 70     &           13 &     13.1 &      0.6 &     55.3 &       6.2 &       0.4 &      31.9 &      11.3 &       0.8 &      33.7 \\\\\n",
      ">70, <= 150   &           16 &     57.5 &      5.7 &    175.1 &      19.4 &       3.3 &      64.3 &      34.4 &       5.0 &     116.9 \\\\\n",
      ">150, <= 300  &           19 &    198.2 &      8.9 &  1,885.9 &      62.0 &       5.7 &     589.0 &     190.5 &       8.3 &   1,683.1 \\\\\n",
      ">300, <= 500  &           26 &    333.3 &     32.8 &  1,153.0 &      95.4 &      15.2 &     393.4 &     254.8 &      31.2 &   1,073.3 \\\\\n",
      ">500, <= 1000 &           21 &  1,076.6 &     65.3 &  3,752.4 &     350.7 &      30.9 &   1,216.1 &     978.1 &      44.4 &   2,751.3 \\\\\n",
      "\\bottomrule\n",
      "\\end{tabular}\n",
      "\n",
      "::::::::::::: Index(['Cardinality', 'FPA-W(0.5,0.5) avg', 'FPA-W(0.5,0.5) min',\n",
      "       'FPA-W(0.5,0.5) max', 'FPA-W(0.1,0.9) avg', 'FPA-W(0.1,0.9) min',\n",
      "       'FPA-W(0.1,0.9) max', 'FPA-W(0.25,0.75) avg', 'FPA-W(0.25,0.75) min',\n",
      "       'FPA-W(0.25,0.75) max', 'FPA2 avg', 'FPA2 min', 'FPA2 max'],\n",
      "      dtype='object')\n",
      "\\begin{tabular}{lrrrrrrrrrrrrr}\n",
      "\\toprule\n",
      "{} &  Cardinality &  FPA-W(0.5,0.5) avg &  FPA-W(0.5,0.5) min &  FPA-W(0.5,0.5) max &  FPA-W(0.1,0.9) avg &  FPA-W(0.1,0.9) min &  FPA-W(0.1,0.9) max &  FPA-W(0.25,0.75) avg &  FPA-W(0.25,0.75) min &  FPA-W(0.25,0.75) max &  FPA2 avg &  FPA2 min &  FPA2 max \\\\\n",
      "\\midrule\n",
      ">-1, <= 10  &           36 &                 3.4 &                 0.0 &                18.9 &                 3.4 &                 0.0 &                19.0 &                   3.8 &                   0.0 &                  18.9 &       1.5 &       0.0 &       9.9 \\\\\n",
      ">10, <= 20  &           39 &                25.0 &                 0.4 &                70.4 &                27.5 &                 0.4 &                74.1 &                  30.3 &                   0.4 &                  75.3 &      13.4 &       0.3 &      49.9 \\\\\n",
      ">20, <= 30  &           30 &               448.3 &                 8.8 &             5,772.8 &               587.8 &                 4.5 &             8,203.3 &                 712.0 &                   4.3 &               8,851.7 &      96.6 &       2.0 &     992.3 \\\\\n",
      ">30, <= 40  &           31 &               271.4 &                 0.7 &             1,729.3 &               303.3 &                 0.8 &             1,618.8 &                 401.2 &                   0.9 &               2,402.3 &     111.8 &       0.4 &     558.3 \\\\\n",
      ">40, <= 50  &            4 &             2,122.2 &               454.5 &             3,767.0 &             2,219.6 &               407.4 &             6,387.8 &               2,806.5 &                 501.6 &               7,371.5 &     895.2 &     130.3 &   1,705.6 \\\\\n",
      ">50, <= 65  &           12 &               803.6 &               106.6 &             3,680.5 &               953.6 &               105.1 &             3,632.4 &               1,557.6 &                 113.9 &               7,714.2 &     439.0 &      66.2 &   2,133.1 \\\\\n",
      ">65, <= 100 &            7 &               652.6 &                16.9 &             1,427.1 &             1,076.8 &                26.0 &             2,681.3 &               1,794.0 &                  32.1 &               5,814.0 &     454.2 &      16.2 &   1,389.0 \\\\\n",
      "\\bottomrule\n",
      "\\end{tabular}\n",
      "\n"
     ]
    }
   ],
   "source": [
    "tables = []\n",
    "pd.options.display.float_format = '{:,.1f}'.format\n",
    "\n",
    "for sheet in sheetnames_titles:\n",
    "    table = buildTable( input_file = input_file, cols = cols[sheet[1]], \n",
    "           colnames = colnames[sheet[1]], sheetname = sheet[1], \n",
    "           scopes = scopes[sheet[1]] )\n",
    "    tables.append(table)\n",
    "    \n",
    "table = tables[0]\n",
    "columns = table.columns\n",
    "#print(columns)\n",
    "colus = []\n",
    "colus.append(columns[0])\n",
    "for i in range(7,10):\n",
    "    colus.append(columns[i])\n",
    "for i in range(10,13):\n",
    "    colus.append(columns[i])    \n",
    "for i in range(4,7):\n",
    "    colus.append(columns[i])\n",
    "print(table[colus].to_latex())\n",
    "\n",
    "colus = []\n",
    "colus.append(columns[0])\n",
    "for i in range(1,4):\n",
    "    colus.append(columns[i])\n",
    "for i in range(13,len(columns)):\n",
    "    colus.append(columns[i])\n",
    "print(table[colus].to_latex())\n",
    "\n",
    "table = tables[1]\n",
    "columns = table.columns\n",
    "#print(columns)\n",
    "colus = []\n",
    "colus.append(columns[0])\n",
    "for i in range(7,10):\n",
    "    colus.append(columns[i])\n",
    "for i in range(10,13):\n",
    "    colus.append(columns[i])    \n",
    "for i in range(4,7):\n",
    "    colus.append(columns[i])\n",
    "print(table[colus].to_latex())\n",
    "\n",
    "colus = []\n",
    "colus.append(columns[0])\n",
    "for i in range(1,4):\n",
    "    colus.append(columns[i])\n",
    "for i in range(13,len(columns)):\n",
    "    colus.append(columns[i])\n",
    "print(table[colus].to_latex())\n",
    "\n",
    "table = tables[2]\n",
    "\n",
    "columns = table.columns\n",
    "print(\":::::::::::::\", columns)\n",
    "print(table.to_latex())\n",
    "\n",
    "#print(tables[2].to_latex())\n",
    "    \n",
    "    "
   ]
  },
  {
   "cell_type": "code",
   "execution_count": null,
   "metadata": {},
   "outputs": [],
   "source": [
    "print(\"$\")"
   ]
  },
  {
   "cell_type": "code",
   "execution_count": 121,
   "metadata": {},
   "outputs": [
    {
     "name": "stderr",
     "output_type": "stream",
     "text": [
      "/home/giorgio/anaconda3/lib/python3.6/site-packages/ipykernel_launcher.py:8: UserWarning: Update your `Dense` call to the Keras 2 API: `Dense(2, input_dim=4, activation=\"linear\", kernel_initializer=\"uniform\")`\n",
      "  \n",
      "/home/giorgio/anaconda3/lib/python3.6/site-packages/ipykernel_launcher.py:10: UserWarning: Update your `Dense` call to the Keras 2 API: `Dense(2, activation=\"linear\", kernel_initializer=\"uniform\")`\n",
      "  # Remove the CWD from sys.path while we load stuff.\n"
     ]
    },
    {
     "name": "stdout",
     "output_type": "stream",
     "text": [
      "[1 2 3 4]\n",
      "Prediction [-4.2842845e-03 -9.3954150e-06]\n",
      "EG  [array([[-0.00078012, -0.00129599, -0.00068066,  0.00028245],\n",
      "       [-0.00078012, -0.00129599, -0.00068066,  0.00028245]],\n",
      "      dtype=float32)]\n",
      "EG2 [array([[ 0.09635101, -0.04128609],\n",
      "       [ 0.19270201, -0.08257218],\n",
      "       [ 0.28905302, -0.12385827],\n",
      "       [ 0.38540402, -0.16514435]], dtype=float32), array([ 0.09635101, -0.04128609], dtype=float32), array([[0.        , 0.13858747],\n",
      "       [0.        , 0.32433742]], dtype=float32), array([0., 2.], dtype=float32)]\n"
     ]
    }
   ],
   "source": [
    "from keras.models import Sequential\n",
    "from keras.layers import Dense, Activation\n",
    "from keras import backend as k\n",
    "import tensorflow as tf\n",
    "\n",
    "model = Sequential()\n",
    "xinp = np.array([[1,2,3,4], [1,2,3,4]])\n",
    "model.add(Dense(2, input_dim=4, init='uniform', activation='linear'))\n",
    "#model.add(Dense(8, init='uniform', activation='relu'))\n",
    "model.add(Dense(2, init='uniform', activation='linear'))\n",
    "model.compile(loss='mean_squared_error', optimizer='adam', metrics=['accuracy'])\n",
    "outputTensor = model.output \n",
    "listOfVariableTensors = model.trainable_weights\n",
    "\n",
    "print(xinp[0])\n",
    "prediction =  model.predict([[xinp[0]]])\n",
    "print(\"Prediction\", np.array(prediction[0]))\n",
    "\n",
    "gradients = k.gradients(model.output[:,0], model.input)\n",
    "gradients2 = k.gradients( outputTensor[:,1], listOfVariableTensors)\n",
    "#trainingExample = np.random.random((1,8))\n",
    "\n",
    "sess = tf.InteractiveSession()\n",
    "sess.run(tf.global_variables_initializer())\n",
    "evaluated_gradients = sess.run(gradients,feed_dict={model.input: xinp})\n",
    "evaluated_gradients2 = sess.run(gradients2, feed_dict = {model.input: xinp})\n",
    "print(\"EG \",evaluated_gradients)\n",
    "print(\"EG2\", evaluated_gradients2)\n",
    "#print(model.input)\n",
    "sess.close()\n"
   ]
  },
  {
   "cell_type": "code",
   "execution_count": 106,
   "metadata": {},
   "outputs": [],
   "source": [
    "sess.close()"
   ]
  },
  {
   "cell_type": "code",
   "execution_count": 110,
   "metadata": {},
   "outputs": [
    {
     "name": "stdout",
     "output_type": "stream",
     "text": [
      "[array([[ 0.00051717,  0.00053667, -0.00029764, -0.00058782],\n",
      "       [ 0.00051717,  0.00053667, -0.00029764, -0.00058782]],\n",
      "      dtype=float32)]\n",
      "[[ 0.00051717  0.00053667 -0.00029764 -0.00058782]\n",
      " [ 0.00051717  0.00053667 -0.00029764 -0.00058782]]\n",
      "[[ 0.0015515   0.00161002 -0.00089291 -0.00176345]\n",
      " [ 0.0015515   0.00161002 -0.00089291 -0.00176345]]\n"
     ]
    }
   ],
   "source": [
    "val = evaluated_gradients\n",
    "print(val)\n",
    "print(evaluated_gradients[0])\n",
    "print(evaluated_gradients[0]+ evaluated_gradients[0]*2)"
   ]
  },
  {
   "cell_type": "code",
   "execution_count": 146,
   "metadata": {},
   "outputs": [
    {
     "name": "stdout",
     "output_type": "stream",
     "text": [
      "[0.0, 0.0, 0.0, 0.0, 0.0, 1.0, 1.0, 1.0] \n",
      " [0, 0, 0, 0, 0, 1, 1, 1] \n",
      " [0, 0, 0, 0, 0, 1, 1, 1]\n"
     ]
    }
   ],
   "source": [
    "vec = np.array([1,2,3,4,5,6,7,8])\n",
    "ret = [round(vec[i]/10) for i in range(len(vec))]\n",
    "fret = [ 1 if ret[i]>=0.5 else 0 for i in range(len(ret))]\n",
    "action = fret\n",
    "boh = [ i if action[i]>0.5 else -1 for i in range(len(action))]\n",
    "print(ret,\"\\n\",fret,\"\\n\",[action[i] for i in range(len(action)) if action[i] >=0])"
   ]
  },
  {
   "cell_type": "code",
   "execution_count": 128,
   "metadata": {},
   "outputs": [
    {
     "name": "stdout",
     "output_type": "stream",
     "text": [
      "1\n"
     ]
    }
   ],
   "source": [
    "print(round(0.51))"
   ]
  },
  {
   "cell_type": "code",
   "execution_count": 150,
   "metadata": {},
   "outputs": [
    {
     "name": "stdout",
     "output_type": "stream",
     "text": [
      "[[0 0 0 3]]\n",
      "[[0 0 0 3]]\n"
     ]
    }
   ],
   "source": [
    "mb = np.matrix([[0,0,0,3]])\n",
    "print(mb)\n",
    "for m in mb :\n",
    "    print(m)"
   ]
  },
  {
   "cell_type": "code",
   "execution_count": 7,
   "metadata": {},
   "outputs": [
    {
     "name": "stdout",
     "output_type": "stream",
     "text": [
      "[0.55749439 0.30662876 0.62841743 0.97580605 0.0883431  0.73136529\n",
      " 0.08864981 0.85812365 0.24451689 0.3886738 ]\n",
      "[9 2 8 6 6 2 3 5 2 4]\n"
     ]
    }
   ],
   "source": [
    "print(np.random.rand(10))\n",
    "n = 10\n",
    "print( np.random.randint( low = 1, high = 10, size=n))"
   ]
  },
  {
   "cell_type": "code",
   "execution_count": null,
   "metadata": {},
   "outputs": [],
   "source": []
  }
 ],
 "metadata": {
  "kernelspec": {
   "display_name": "Python 3",
   "language": "python",
   "name": "python3"
  },
  "language_info": {
   "codemirror_mode": {
    "name": "ipython",
    "version": 3
   },
   "file_extension": ".py",
   "mimetype": "text/x-python",
   "name": "python",
   "nbconvert_exporter": "python",
   "pygments_lexer": "ipython3",
   "version": "3.6.8"
  }
 },
 "nbformat": 4,
 "nbformat_minor": 1
}
